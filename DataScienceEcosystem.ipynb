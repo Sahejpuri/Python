{
 "cells": [
  {
   "cell_type": "markdown",
   "id": "06ac1183-ad44-418a-9978-52df7456319f",
   "metadata": {},
   "source": [
    "# Data Science Tools and Ecosystem"
   ]
  },
  {
   "cell_type": "markdown",
   "id": "d72eb907-4674-47de-8d93-5b9cc8097295",
   "metadata": {
    "tags": []
   },
   "source": [
    "In this notebook, Data Science Tools and Ecosystem are summarized."
   ]
  },
  {
   "cell_type": "markdown",
   "id": "c3081dc4-66d6-4a2f-b19b-63c95c7a49dd",
   "metadata": {},
   "source": [
    "**Objectives:**"
   ]
  },
  {
   "cell_type": "markdown",
   "id": "4db7356d-10a3-435d-9727-ebdc8468b357",
   "metadata": {
    "tags": []
   },
   "source": [
    "* Python\n",
    "* SQL\n",
    "* Github"
   ]
  },
  {
   "cell_type": "markdown",
   "id": "ebe4633c-0231-48e2-b8cd-322c1016ab5f",
   "metadata": {},
   "source": [
    "Some of the popular languages that Data Scientists use are:\n",
    "\n",
    "1. Python\n",
    "2. R\n",
    "3. SQL"
   ]
  },
  {
   "cell_type": "markdown",
   "id": "f52dc4ec-165a-458c-b1a7-64cac5695cd0",
   "metadata": {},
   "source": [
    "Some of the commonly used libraries used by Data Scientists include:\n",
    "\n",
    "1. NumPy\n",
    "2. pandas\n",
    "3. Matplotlib"
   ]
  },
  {
   "cell_type": "markdown",
   "id": "c50b3723-d9eb-4170-996d-ec4b06a81960",
   "metadata": {},
   "source": [
    "| Data Science Tools |\n",
    "|-------------------|\n",
    "| Jupyter Notebook  |\n",
    "| RStudio           |\n",
    "| VS Code           |"
   ]
  },
  {
   "cell_type": "markdown",
   "id": "359394a2-729a-4b0e-8e10-334cfc43a55f",
   "metadata": {},
   "source": [
    "### Examples of Evaluating Arithmetic Expressions in Python\n",
    "\n",
    "In this section, we'll explore a few examples of evaluating arithmetic expressions in Python."
   ]
  },
  {
   "cell_type": "code",
   "execution_count": null,
   "id": "e61ef7e0-aa6a-473a-81df-5c800eb9e6bf",
   "metadata": {
    "tags": []
   },
   "outputs": [],
   "source": [
    "# This is a simple arithmetic expression to multiply then add integers."
   ]
  },
  {
   "cell_type": "code",
   "execution_count": 1,
   "id": "9b5e6669-fb22-44e6-9a6b-2b906c3d5566",
   "metadata": {
    "tags": []
   },
   "outputs": [
    {
     "data": {
      "text/plain": [
       "17"
      ]
     },
     "execution_count": 1,
     "metadata": {},
     "output_type": "execute_result"
    }
   ],
   "source": [
    "(3 * 4) + 5"
   ]
  },
  {
   "cell_type": "code",
   "execution_count": 2,
   "id": "16b80705-f721-44fd-9888-78d348a8e8c5",
   "metadata": {
    "tags": []
   },
   "outputs": [],
   "source": [
    "# This will convert 200 minutes to hours by dividing by 60."
   ]
  },
  {
   "cell_type": "code",
   "execution_count": 3,
   "id": "ab85bab7-d98b-4ad6-8d81-9825515fdd4d",
   "metadata": {
    "tags": []
   },
   "outputs": [
    {
     "data": {
      "text/plain": [
       "3.3333333333333335"
      ]
     },
     "execution_count": 3,
     "metadata": {},
     "output_type": "execute_result"
    }
   ],
   "source": [
    "200/60"
   ]
  },
  {
   "cell_type": "markdown",
   "id": "165634a1-adc2-4673-b0a2-c9fec507c415",
   "metadata": {},
   "source": [
    "## Author\n",
    "Sahej"
   ]
  },
  {
   "cell_type": "code",
   "execution_count": null,
   "id": "cef4f1b5-9e7c-4af3-b231-eaaedbc4c843",
   "metadata": {},
   "outputs": [],
   "source": []
  }
 ],
 "metadata": {
  "kernelspec": {
   "display_name": "Python",
   "language": "python",
   "name": "conda-env-python-py"
  },
  "language_info": {
   "codemirror_mode": {
    "name": "ipython",
    "version": 3
   },
   "file_extension": ".py",
   "mimetype": "text/x-python",
   "name": "python",
   "nbconvert_exporter": "python",
   "pygments_lexer": "ipython3",
   "version": "3.7.12"
  }
 },
 "nbformat": 4,
 "nbformat_minor": 5
}
